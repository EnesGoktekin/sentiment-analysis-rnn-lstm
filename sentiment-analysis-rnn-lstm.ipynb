{
 "cells": [
  {
   "cell_type": "code",
   "execution_count": 1,
   "id": "00bca0ee",
   "metadata": {
    "_cell_guid": "b1076dfc-b9ad-4769-8c92-a6c4dae69d19",
    "_uuid": "8f2839f25d086af736a60e9eeb907d3b93b6e0e5",
    "execution": {
     "iopub.execute_input": "2024-09-12T05:49:34.812070Z",
     "iopub.status.busy": "2024-09-12T05:49:34.811763Z",
     "iopub.status.idle": "2024-09-12T05:49:35.594090Z",
     "shell.execute_reply": "2024-09-12T05:49:35.592885Z"
    },
    "papermill": {
     "duration": 0.789969,
     "end_time": "2024-09-12T05:49:35.596343",
     "exception": false,
     "start_time": "2024-09-12T05:49:34.806374",
     "status": "completed"
    },
    "tags": []
   },
   "outputs": [
    {
     "name": "stdout",
     "output_type": "stream",
     "text": [
      "/kaggle/input/sentiment140/training.1600000.processed.noemoticon.csv\n"
     ]
    }
   ],
   "source": [
    "# This Python 3 environment comes with many helpful analytics libraries installed\n",
    "# It is defined by the kaggle/python Docker image: https://github.com/kaggle/docker-python\n",
    "# For example, here's several helpful packages to load\n",
    "\n",
    "import numpy as np # linear algebra\n",
    "import pandas as pd # data processing, CSV file I/O (e.g. pd.read_csv)\n",
    "\n",
    "# Input data files are available in the read-only \"../input/\" directory\n",
    "# For example, running this (by clicking run or pressing Shift+Enter) will list all files under the input directory\n",
    "\n",
    "import os\n",
    "for dirname, _, filenames in os.walk('/kaggle/input'):\n",
    "    for filename in filenames:\n",
    "        print(os.path.join(dirname, filename))\n",
    "\n",
    "# You can write up to 20GB to the current directory (/kaggle/working/) that gets preserved as output when you create a version using \"Save & Run All\" \n",
    "# You can also write temporary files to /kaggle/temp/, but they won't be saved outside of the current session"
   ]
  },
  {
   "cell_type": "code",
   "execution_count": 2,
   "id": "d938e0e0",
   "metadata": {
    "execution": {
     "iopub.execute_input": "2024-09-12T05:49:35.605623Z",
     "iopub.status.busy": "2024-09-12T05:49:35.605163Z",
     "iopub.status.idle": "2024-09-12T05:49:42.611389Z",
     "shell.execute_reply": "2024-09-12T05:49:42.610246Z"
    },
    "papermill": {
     "duration": 7.013992,
     "end_time": "2024-09-12T05:49:42.614493",
     "exception": false,
     "start_time": "2024-09-12T05:49:35.600501",
     "status": "completed"
    },
    "tags": []
   },
   "outputs": [
    {
     "name": "stdout",
     "output_type": "stream",
     "text": [
      "Index(['0', '1467810369', 'Mon Apr 06 22:19:45 PDT 2009', 'NO_QUERY',\n",
      "       '_TheSpecialOne_',\n",
      "       '@switchfoot http://twitpic.com/2y1zl - Awww, that's a bummer.  You shoulda got David Carr of Third Day to do it. ;D'],\n",
      "      dtype='object')\n"
     ]
    },
    {
     "data": {
      "text/html": [
       "<div>\n",
       "<style scoped>\n",
       "    .dataframe tbody tr th:only-of-type {\n",
       "        vertical-align: middle;\n",
       "    }\n",
       "\n",
       "    .dataframe tbody tr th {\n",
       "        vertical-align: top;\n",
       "    }\n",
       "\n",
       "    .dataframe thead th {\n",
       "        text-align: right;\n",
       "    }\n",
       "</style>\n",
       "<table border=\"1\" class=\"dataframe\">\n",
       "  <thead>\n",
       "    <tr style=\"text-align: right;\">\n",
       "      <th></th>\n",
       "      <th>0</th>\n",
       "      <th>1467810369</th>\n",
       "      <th>Mon Apr 06 22:19:45 PDT 2009</th>\n",
       "      <th>NO_QUERY</th>\n",
       "      <th>_TheSpecialOne_</th>\n",
       "      <th>@switchfoot http://twitpic.com/2y1zl - Awww, that's a bummer.  You shoulda got David Carr of Third Day to do it. ;D</th>\n",
       "    </tr>\n",
       "  </thead>\n",
       "  <tbody>\n",
       "    <tr>\n",
       "      <th>0</th>\n",
       "      <td>0</td>\n",
       "      <td>1467810672</td>\n",
       "      <td>Mon Apr 06 22:19:49 PDT 2009</td>\n",
       "      <td>NO_QUERY</td>\n",
       "      <td>scotthamilton</td>\n",
       "      <td>is upset that he can't update his Facebook by ...</td>\n",
       "    </tr>\n",
       "    <tr>\n",
       "      <th>1</th>\n",
       "      <td>0</td>\n",
       "      <td>1467810917</td>\n",
       "      <td>Mon Apr 06 22:19:53 PDT 2009</td>\n",
       "      <td>NO_QUERY</td>\n",
       "      <td>mattycus</td>\n",
       "      <td>@Kenichan I dived many times for the ball. Man...</td>\n",
       "    </tr>\n",
       "    <tr>\n",
       "      <th>2</th>\n",
       "      <td>0</td>\n",
       "      <td>1467811184</td>\n",
       "      <td>Mon Apr 06 22:19:57 PDT 2009</td>\n",
       "      <td>NO_QUERY</td>\n",
       "      <td>ElleCTF</td>\n",
       "      <td>my whole body feels itchy and like its on fire</td>\n",
       "    </tr>\n",
       "    <tr>\n",
       "      <th>3</th>\n",
       "      <td>0</td>\n",
       "      <td>1467811193</td>\n",
       "      <td>Mon Apr 06 22:19:57 PDT 2009</td>\n",
       "      <td>NO_QUERY</td>\n",
       "      <td>Karoli</td>\n",
       "      <td>@nationwideclass no, it's not behaving at all....</td>\n",
       "    </tr>\n",
       "    <tr>\n",
       "      <th>4</th>\n",
       "      <td>0</td>\n",
       "      <td>1467811372</td>\n",
       "      <td>Mon Apr 06 22:20:00 PDT 2009</td>\n",
       "      <td>NO_QUERY</td>\n",
       "      <td>joy_wolf</td>\n",
       "      <td>@Kwesidei not the whole crew</td>\n",
       "    </tr>\n",
       "  </tbody>\n",
       "</table>\n",
       "</div>"
      ],
      "text/plain": [
       "   0  1467810369  Mon Apr 06 22:19:45 PDT 2009  NO_QUERY _TheSpecialOne_  \\\n",
       "0  0  1467810672  Mon Apr 06 22:19:49 PDT 2009  NO_QUERY   scotthamilton   \n",
       "1  0  1467810917  Mon Apr 06 22:19:53 PDT 2009  NO_QUERY        mattycus   \n",
       "2  0  1467811184  Mon Apr 06 22:19:57 PDT 2009  NO_QUERY         ElleCTF   \n",
       "3  0  1467811193  Mon Apr 06 22:19:57 PDT 2009  NO_QUERY          Karoli   \n",
       "4  0  1467811372  Mon Apr 06 22:20:00 PDT 2009  NO_QUERY        joy_wolf   \n",
       "\n",
       "  @switchfoot http://twitpic.com/2y1zl - Awww, that's a bummer.  You shoulda got David Carr of Third Day to do it. ;D  \n",
       "0  is upset that he can't update his Facebook by ...                                                                   \n",
       "1  @Kenichan I dived many times for the ball. Man...                                                                   \n",
       "2    my whole body feels itchy and like its on fire                                                                    \n",
       "3  @nationwideclass no, it's not behaving at all....                                                                   \n",
       "4                      @Kwesidei not the whole crew                                                                    "
      ]
     },
     "execution_count": 2,
     "metadata": {},
     "output_type": "execute_result"
    }
   ],
   "source": [
    "import pandas as pd\n",
    "\n",
    "# Load the dataset\n",
    "df = pd.read_csv('/kaggle/input/sentiment140/training.1600000.processed.noemoticon.csv', encoding='ISO-8859-1')\n",
    "\n",
    "# Inspect column names and first few rows\n",
    "print(df.columns)\n",
    "df.head()\n",
    "\n"
   ]
  },
  {
   "cell_type": "code",
   "execution_count": 3,
   "id": "06a7eefc",
   "metadata": {
    "execution": {
     "iopub.execute_input": "2024-09-12T05:49:42.626338Z",
     "iopub.status.busy": "2024-09-12T05:49:42.625986Z",
     "iopub.status.idle": "2024-09-12T05:49:42.639403Z",
     "shell.execute_reply": "2024-09-12T05:49:42.638343Z"
    },
    "papermill": {
     "duration": 0.022187,
     "end_time": "2024-09-12T05:49:42.641975",
     "exception": false,
     "start_time": "2024-09-12T05:49:42.619788",
     "status": "completed"
    },
    "tags": []
   },
   "outputs": [
    {
     "data": {
      "text/html": [
       "<div>\n",
       "<style scoped>\n",
       "    .dataframe tbody tr th:only-of-type {\n",
       "        vertical-align: middle;\n",
       "    }\n",
       "\n",
       "    .dataframe tbody tr th {\n",
       "        vertical-align: top;\n",
       "    }\n",
       "\n",
       "    .dataframe thead th {\n",
       "        text-align: right;\n",
       "    }\n",
       "</style>\n",
       "<table border=\"1\" class=\"dataframe\">\n",
       "  <thead>\n",
       "    <tr style=\"text-align: right;\">\n",
       "      <th></th>\n",
       "      <th>target</th>\n",
       "      <th>ids</th>\n",
       "      <th>date</th>\n",
       "      <th>flag</th>\n",
       "      <th>user</th>\n",
       "      <th>text</th>\n",
       "    </tr>\n",
       "  </thead>\n",
       "  <tbody>\n",
       "    <tr>\n",
       "      <th>0</th>\n",
       "      <td>0</td>\n",
       "      <td>1467810672</td>\n",
       "      <td>Mon Apr 06 22:19:49 PDT 2009</td>\n",
       "      <td>NO_QUERY</td>\n",
       "      <td>scotthamilton</td>\n",
       "      <td>is upset that he can't update his Facebook by ...</td>\n",
       "    </tr>\n",
       "    <tr>\n",
       "      <th>1</th>\n",
       "      <td>0</td>\n",
       "      <td>1467810917</td>\n",
       "      <td>Mon Apr 06 22:19:53 PDT 2009</td>\n",
       "      <td>NO_QUERY</td>\n",
       "      <td>mattycus</td>\n",
       "      <td>@Kenichan I dived many times for the ball. Man...</td>\n",
       "    </tr>\n",
       "    <tr>\n",
       "      <th>2</th>\n",
       "      <td>0</td>\n",
       "      <td>1467811184</td>\n",
       "      <td>Mon Apr 06 22:19:57 PDT 2009</td>\n",
       "      <td>NO_QUERY</td>\n",
       "      <td>ElleCTF</td>\n",
       "      <td>my whole body feels itchy and like its on fire</td>\n",
       "    </tr>\n",
       "    <tr>\n",
       "      <th>3</th>\n",
       "      <td>0</td>\n",
       "      <td>1467811193</td>\n",
       "      <td>Mon Apr 06 22:19:57 PDT 2009</td>\n",
       "      <td>NO_QUERY</td>\n",
       "      <td>Karoli</td>\n",
       "      <td>@nationwideclass no, it's not behaving at all....</td>\n",
       "    </tr>\n",
       "    <tr>\n",
       "      <th>4</th>\n",
       "      <td>0</td>\n",
       "      <td>1467811372</td>\n",
       "      <td>Mon Apr 06 22:20:00 PDT 2009</td>\n",
       "      <td>NO_QUERY</td>\n",
       "      <td>joy_wolf</td>\n",
       "      <td>@Kwesidei not the whole crew</td>\n",
       "    </tr>\n",
       "  </tbody>\n",
       "</table>\n",
       "</div>"
      ],
      "text/plain": [
       "   target         ids                          date      flag           user  \\\n",
       "0       0  1467810672  Mon Apr 06 22:19:49 PDT 2009  NO_QUERY  scotthamilton   \n",
       "1       0  1467810917  Mon Apr 06 22:19:53 PDT 2009  NO_QUERY       mattycus   \n",
       "2       0  1467811184  Mon Apr 06 22:19:57 PDT 2009  NO_QUERY        ElleCTF   \n",
       "3       0  1467811193  Mon Apr 06 22:19:57 PDT 2009  NO_QUERY         Karoli   \n",
       "4       0  1467811372  Mon Apr 06 22:20:00 PDT 2009  NO_QUERY       joy_wolf   \n",
       "\n",
       "                                                text  \n",
       "0  is upset that he can't update his Facebook by ...  \n",
       "1  @Kenichan I dived many times for the ball. Man...  \n",
       "2    my whole body feels itchy and like its on fire   \n",
       "3  @nationwideclass no, it's not behaving at all....  \n",
       "4                      @Kwesidei not the whole crew   "
      ]
     },
     "execution_count": 3,
     "metadata": {},
     "output_type": "execute_result"
    }
   ],
   "source": [
    "df.columns = ['target', 'ids', 'date', 'flag', 'user', 'text']\n",
    "df.head()"
   ]
  },
  {
   "cell_type": "code",
   "execution_count": 4,
   "id": "6685a2a9",
   "metadata": {
    "execution": {
     "iopub.execute_input": "2024-09-12T05:49:42.654457Z",
     "iopub.status.busy": "2024-09-12T05:49:42.654089Z",
     "iopub.status.idle": "2024-09-12T05:49:57.474115Z",
     "shell.execute_reply": "2024-09-12T05:49:57.472632Z"
    },
    "papermill": {
     "duration": 14.829014,
     "end_time": "2024-09-12T05:49:57.476607",
     "exception": false,
     "start_time": "2024-09-12T05:49:42.647593",
     "status": "completed"
    },
    "tags": []
   },
   "outputs": [],
   "source": [
    "import re\n",
    "\n",
    "def preprocess_text(text):\n",
    "    text = text.lower()  # Convert to lowercase\n",
    "    text = re.sub(r'\\d+', '', text)  # Remove numbers\n",
    "    text = re.sub(r'[^\\w\\s]', '', text)  # Remove punctuation\n",
    "    return text\n",
    "\n",
    "# Apply preprocessing\n",
    "df['text'] = df['text'].apply(preprocess_text)\n"
   ]
  },
  {
   "cell_type": "code",
   "execution_count": 5,
   "id": "735ed351",
   "metadata": {
    "execution": {
     "iopub.execute_input": "2024-09-12T05:49:57.487373Z",
     "iopub.status.busy": "2024-09-12T05:49:57.487019Z",
     "iopub.status.idle": "2024-09-12T05:50:31.300981Z",
     "shell.execute_reply": "2024-09-12T05:50:31.299839Z"
    },
    "papermill": {
     "duration": 33.825819,
     "end_time": "2024-09-12T05:50:31.307289",
     "exception": false,
     "start_time": "2024-09-12T05:49:57.481470",
     "status": "completed"
    },
    "tags": []
   },
   "outputs": [
    {
     "name": "stdout",
     "output_type": "stream",
     "text": [
      "Naive Bayes Model Performance\n",
      "Accuracy: 0.768753125\n",
      "              precision    recall  f1-score   support\n",
      "\n",
      "           0       0.76      0.78      0.77    159494\n",
      "           1       0.78      0.76      0.77    160506\n",
      "\n",
      "    accuracy                           0.77    320000\n",
      "   macro avg       0.77      0.77      0.77    320000\n",
      "weighted avg       0.77      0.77      0.77    320000\n",
      "\n"
     ]
    }
   ],
   "source": [
    "from sklearn.feature_extraction.text import TfidfVectorizer\n",
    "from sklearn.model_selection import train_test_split\n",
    "from sklearn.naive_bayes import MultinomialNB\n",
    "from sklearn.metrics import accuracy_score, classification_report\n",
    "\n",
    "# Define the feature (X) and target (y) columns\n",
    "X = df['text']\n",
    "y = df['target']\n",
    "\n",
    "# Map target values to a binary classification (0 = negative, 1 = positive)\n",
    "y = y.map({0: 0, 2: 0, 4: 1})\n",
    "\n",
    "# Split data into training and test sets\n",
    "X_train, X_test, y_train, y_test = train_test_split(X, y, test_size=0.2, random_state=42)\n",
    "\n",
    "# Vectorize the text data\n",
    "vectorizer = TfidfVectorizer(max_features=5000)\n",
    "X_train_vectorized = vectorizer.fit_transform(X_train)\n",
    "X_test_vectorized = vectorizer.transform(X_test)\n",
    "\n",
    "# Train Naive Bayes model\n",
    "nb_model = MultinomialNB()\n",
    "nb_model.fit(X_train_vectorized, y_train)\n",
    "\n",
    "# Make predictions and evaluate the model\n",
    "y_pred = nb_model.predict(X_test_vectorized)\n",
    "print(\"Naive Bayes Model Performance\")\n",
    "print(\"Accuracy:\", accuracy_score(y_test, y_pred))\n",
    "print(classification_report(y_test, y_pred))\n"
   ]
  },
  {
   "cell_type": "code",
   "execution_count": 6,
   "id": "f9e15e10",
   "metadata": {
    "execution": {
     "iopub.execute_input": "2024-09-12T05:50:31.317397Z",
     "iopub.status.busy": "2024-09-12T05:50:31.316963Z",
     "iopub.status.idle": "2024-09-12T05:51:03.539352Z",
     "shell.execute_reply": "2024-09-12T05:51:03.538413Z"
    },
    "papermill": {
     "duration": 32.230415,
     "end_time": "2024-09-12T05:51:03.542076",
     "exception": false,
     "start_time": "2024-09-12T05:50:31.311661",
     "status": "completed"
    },
    "tags": []
   },
   "outputs": [],
   "source": [
    "# Tek seferde tüm veriyi vektörize et\n",
    "X_train_vectorized = vectorizer.fit_transform(X_train)\n",
    "X_test_vectorized = vectorizer.transform(X_test)\n"
   ]
  },
  {
   "cell_type": "code",
   "execution_count": 7,
   "id": "982fcde1",
   "metadata": {
    "execution": {
     "iopub.execute_input": "2024-09-12T05:51:03.553812Z",
     "iopub.status.busy": "2024-09-12T05:51:03.553434Z",
     "iopub.status.idle": "2024-09-12T05:52:20.633004Z",
     "shell.execute_reply": "2024-09-12T05:52:20.631924Z"
    },
    "papermill": {
     "duration": 77.088156,
     "end_time": "2024-09-12T05:52:20.635535",
     "exception": false,
     "start_time": "2024-09-12T05:51:03.547379",
     "status": "completed"
    },
    "tags": []
   },
   "outputs": [],
   "source": [
    "from tensorflow.keras.preprocessing.text import Tokenizer\n",
    "from tensorflow.keras.preprocessing.sequence import pad_sequences\n",
    "\n",
    "# Tokenize text data\n",
    "tokenizer = Tokenizer(num_words=5000)\n",
    "tokenizer.fit_on_texts(X_train)\n",
    "X_train_sequences = tokenizer.texts_to_sequences(X_train)\n",
    "X_test_sequences = tokenizer.texts_to_sequences(X_test)\n",
    "\n",
    "# Pad sequences\n",
    "max_sequence_length = max(len(seq) for seq in X_train_sequences)\n",
    "X_train_padded = pad_sequences(X_train_sequences, maxlen=max_sequence_length)\n",
    "X_test_padded = pad_sequences(X_test_sequences, maxlen=max_sequence_length)\n"
   ]
  },
  {
   "cell_type": "code",
   "execution_count": 8,
   "id": "62b56bcc",
   "metadata": {
    "execution": {
     "iopub.execute_input": "2024-09-12T05:52:20.647164Z",
     "iopub.status.busy": "2024-09-12T05:52:20.646035Z",
     "iopub.status.idle": "2024-09-12T06:10:39.523468Z",
     "shell.execute_reply": "2024-09-12T06:10:39.522362Z"
    },
    "papermill": {
     "duration": 1098.885234,
     "end_time": "2024-09-12T06:10:39.525519",
     "exception": false,
     "start_time": "2024-09-12T05:52:20.640285",
     "status": "completed"
    },
    "tags": []
   },
   "outputs": [
    {
     "name": "stderr",
     "output_type": "stream",
     "text": [
      "/opt/conda/lib/python3.10/site-packages/keras/src/layers/core/embedding.py:90: UserWarning: Argument `input_length` is deprecated. Just remove it.\n",
      "  warnings.warn(\n"
     ]
    },
    {
     "name": "stdout",
     "output_type": "stream",
     "text": [
      "Epoch 1/50\n",
      "\u001b[1m36000/36000\u001b[0m \u001b[32m━━━━━━━━━━━━━━━━━━━━\u001b[0m\u001b[37m\u001b[0m \u001b[1m181s\u001b[0m 5ms/step - accuracy: 0.7894 - loss: 0.4463 - val_accuracy: 0.8145 - val_loss: 0.4024\n",
      "Epoch 2/50\n",
      "\u001b[1m36000/36000\u001b[0m \u001b[32m━━━━━━━━━━━━━━━━━━━━\u001b[0m\u001b[37m\u001b[0m \u001b[1m178s\u001b[0m 5ms/step - accuracy: 0.8236 - loss: 0.3885 - val_accuracy: 0.8202 - val_loss: 0.3958\n",
      "Epoch 3/50\n",
      "\u001b[1m36000/36000\u001b[0m \u001b[32m━━━━━━━━━━━━━━━━━━━━\u001b[0m\u001b[37m\u001b[0m \u001b[1m179s\u001b[0m 5ms/step - accuracy: 0.8336 - loss: 0.3698 - val_accuracy: 0.8214 - val_loss: 0.3924\n",
      "Epoch 4/50\n",
      "\u001b[1m36000/36000\u001b[0m \u001b[32m━━━━━━━━━━━━━━━━━━━━\u001b[0m\u001b[37m\u001b[0m \u001b[1m178s\u001b[0m 5ms/step - accuracy: 0.8414 - loss: 0.3562 - val_accuracy: 0.8216 - val_loss: 0.3958\n",
      "Epoch 5/50\n",
      "\u001b[1m36000/36000\u001b[0m \u001b[32m━━━━━━━━━━━━━━━━━━━━\u001b[0m\u001b[37m\u001b[0m \u001b[1m179s\u001b[0m 5ms/step - accuracy: 0.8488 - loss: 0.3429 - val_accuracy: 0.8199 - val_loss: 0.3975\n",
      "Epoch 6/50\n",
      "\u001b[1m36000/36000\u001b[0m \u001b[32m━━━━━━━━━━━━━━━━━━━━\u001b[0m\u001b[37m\u001b[0m \u001b[1m179s\u001b[0m 5ms/step - accuracy: 0.8559 - loss: 0.3292 - val_accuracy: 0.8189 - val_loss: 0.4045\n",
      "\u001b[1m10000/10000\u001b[0m \u001b[32m━━━━━━━━━━━━━━━━━━━━\u001b[0m\u001b[37m\u001b[0m \u001b[1m23s\u001b[0m 2ms/step - accuracy: 0.8211 - loss: 0.3930\n",
      "LSTM Model Performansı\n",
      "Accuracy: 0.8217625021934509\n"
     ]
    }
   ],
   "source": [
    "from keras.models import Sequential\n",
    "from keras.layers import Embedding, LSTM, Dense\n",
    "from keras.preprocessing.sequence import pad_sequences\n",
    "from keras.callbacks import EarlyStopping\n",
    "\n",
    "# LSTM modelini oluşturma\n",
    "model = Sequential()\n",
    "model.add(Embedding(input_dim=5000, output_dim=128, input_length=max_sequence_length))\n",
    "model.add(LSTM(64))\n",
    "model.add(Dense(1, activation='sigmoid'))\n",
    "\n",
    "# Modeli derleme\n",
    "model.compile(optimizer='adam', loss='binary_crossentropy', metrics=['accuracy'])\n",
    "\n",
    "# Early stopping tanımlama\n",
    "early_stopping = EarlyStopping(\n",
    "    monitor='val_loss',  # İzlenecek metrik\n",
    "    patience=3,          # Doğrulama kaybı iyileşmediğinde kaç epoch bekleyeceği\n",
    "    restore_best_weights=True  # En iyi ağırlıkları geri yükle\n",
    ")\n",
    "\n",
    "# Modeli eğitme\n",
    "history = model.fit(\n",
    "    X_train_padded, y_train,\n",
    "    epochs=50,  # Eğitim süresini uzatabiliriz çünkü early stopping ile erken durdurma yapılacak\n",
    "    batch_size=32,\n",
    "    validation_split=0.1,\n",
    "    callbacks=[early_stopping]  # Early stopping'i geri çağırmalara ekleyin\n",
    ")\n",
    "\n",
    "# Modeli değerlendirme\n",
    "loss, accuracy = model.evaluate(X_test_padded, y_test)\n",
    "print(\"LSTM Model Performansı\")\n",
    "print(\"Accuracy:\", accuracy)\n"
   ]
  },
  {
   "cell_type": "code",
   "execution_count": 9,
   "id": "7aa38a45",
   "metadata": {
    "execution": {
     "iopub.execute_input": "2024-09-12T06:10:42.994832Z",
     "iopub.status.busy": "2024-09-12T06:10:42.993907Z",
     "iopub.status.idle": "2024-09-12T06:10:43.615377Z",
     "shell.execute_reply": "2024-09-12T06:10:43.614464Z"
    },
    "papermill": {
     "duration": 2.355792,
     "end_time": "2024-09-12T06:10:43.617455",
     "exception": false,
     "start_time": "2024-09-12T06:10:41.261663",
     "status": "completed"
    },
    "tags": []
   },
   "outputs": [
    {
     "data": {
      "image/png": "[encoded data removed]",
      "text/plain": [
       "<Figure size 1200x500 with 2 Axes>"
      ]
     },
     "metadata": {},
     "output_type": "display_data"
    }
   ],
   "source": [
    "import matplotlib.pyplot as plt\n",
    "# Eğitim ve doğruluk değerlerini çizme\n",
    "plt.figure(figsize=(12, 5))\n",
    "\n",
    "# Kayıp (loss) grafiği\n",
    "plt.subplot(1, 2, 1)\n",
    "plt.plot(history.history['loss'], label='Eğitim Kaybı')\n",
    "plt.plot(history.history['val_loss'], label='Doğrulama Kaybı')\n",
    "plt.title('Kayıp (Loss) Eğrileri')\n",
    "plt.xlabel('Epoch')\n",
    "plt.ylabel('Kayıp (Loss)')\n",
    "plt.legend()\n",
    "\n",
    "# Doğruluk (accuracy) grafiği\n",
    "plt.subplot(1, 2, 2)\n",
    "plt.plot(history.history['accuracy'], label='Eğitim Doğruluğu')\n",
    "plt.plot(history.history['val_accuracy'], label='Doğrulama Doğruluğu')\n",
    "plt.title('Doğruluk (Accuracy) Eğrileri')\n",
    "plt.xlabel('Epoch')\n",
    "plt.ylabel('Doğruluk (Accuracy)')\n",
    "plt.legend()\n",
    "\n",
    "plt.tight_layout()\n",
    "plt.show()"
   ]
  },
  {
   "cell_type": "code",
   "execution_count": null,
   "id": "683b24b7",
   "metadata": {
    "papermill": {
     "duration": 1.722929,
     "end_time": "2024-09-12T06:10:47.059988",
     "exception": false,
     "start_time": "2024-09-12T06:10:45.337059",
     "status": "completed"
    },
    "tags": []
   },
   "outputs": [],
   "source": []
  }
 ],
 "metadata": {
  "kaggle": {
   "accelerator": "gpu",
   "dataSources": [
    {
     "datasetId": 2477,
     "sourceId": 4140,
     "sourceType": "datasetVersion"
    }
   ],
   "dockerImageVersionId": 30762,
   "isGpuEnabled": true,
   "isInternetEnabled": true,
   "language": "python",
   "sourceType": "notebook"
  },
  "kernelspec": {
   "display_name": "Python 3",
   "language": "python",
   "name": "python3"
  },
  "language_info": {
   "codemirror_mode": {
    "name": "ipython",
    "version": 3
   },
   "file_extension": ".py",
   "mimetype": "text/x-python",
   "name": "python",
   "nbconvert_exporter": "python",
   "pygments_lexer": "ipython3",
   "version": "3.10.14"
  },
  "papermill": {
   "default_parameters": {},
   "duration": 1279.481788,
   "end_time": "2024-09-12T06:10:51.491785",
   "environment_variables": {},
   "exception": null,
   "input_path": "__notebook__.ipynb",
   "output_path": "__notebook__.ipynb",
   "parameters": {},
   "start_time": "2024-09-12T05:49:32.009997",
   "version": "2.6.0"
  }
 },
 "nbformat": 4,
 "nbformat_minor": 5
}
